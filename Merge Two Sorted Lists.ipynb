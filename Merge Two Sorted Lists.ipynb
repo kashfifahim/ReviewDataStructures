{
 "cells": [
  {
   "cell_type": "markdown",
   "id": "dc3ed627-9f1b-4215-966a-fd85bb95d394",
   "metadata": {},
   "source": [
    "Problem Statement\n",
    "Implement a function that merges two sorted lists of m and n elements respectively, into another sorted list. Name it merge_lists(lst1, lst2).\n",
    "\n",
    "Input\n",
    "Two sorted lists.\n",
    "\n",
    "Output\n",
    "A merged and sorted list consisting of all elements of both input lists.\n",
    "\n",
    "Sample Input\n",
    "\n",
    "list1 = [1,3,4,5]  \n",
    "\n",
    "list2 = [2,6,7,8]\n",
    "\n",
    "Sample Output\n",
    "\n",
    "arr = [1,2,3,4,5,6,7,8]"
   ]
  },
  {
   "cell_type": "code",
   "execution_count": 16,
   "id": "19febf3f-e684-4cdd-a072-2da97ef0150e",
   "metadata": {},
   "outputs": [],
   "source": [
    "def merge_lists(lst1, lst2):\n",
    "\n",
    "    # Replace this placeholder return statement with your code\n",
    "    list_res = []\n",
    "    list_res.extend(lst1)\n",
    "    list_res.extend(lst2)\n",
    "\n",
    "    def sort(lst):\n",
    "        # Study Tip: Memorize some sort functions for interview\n",
    "        return lst.sort()\n",
    "\n",
    "    sort(list_res)\n",
    "        \n",
    "    return list_res"
   ]
  },
  {
   "cell_type": "code",
   "execution_count": 17,
   "id": "4418ad9d-baf7-4c00-be02-7509a214c26a",
   "metadata": {},
   "outputs": [
    {
     "data": {
      "text/plain": [
       "[4, 11, 24, 31, 55, 76]"
      ]
     },
     "execution_count": 17,
     "metadata": {},
     "output_type": "execute_result"
    }
   ],
   "source": [
    "merge_lists([11, 24, 31], [4, 55, 76])"
   ]
  },
  {
   "cell_type": "raw",
   "id": "45c98064-a0e6-49cd-9004-a9712df72d76",
   "metadata": {},
   "source": [
    "def merge_lists(lst1, lst2):\n",
    "    index_arr1 = 0\n",
    "    index_arr2 = 0\n",
    "    index_result = 0\n",
    "    result = []\n",
    "\n",
    "    for i in range(len(lst1)+len(lst2)):\n",
    "        result.append(i)\n",
    "    # Traverse Both lists and insert smaller value from arr1 or arr2\n",
    "    # into result list and then increment that lists index.\n",
    "    # If a list is completely traversed, while other one is left then just\n",
    "    # copy all the remaining elements into result list\n",
    "    while (index_arr1 < len(lst1)) and (index_arr2 < len(lst2)):\n",
    "        if (lst1[index_arr1] < lst2[index_arr2]):\n",
    "            result[index_result] = lst1[index_arr1]\n",
    "            index_result += 1\n",
    "            index_arr1 += 1\n",
    "        else:\n",
    "            result[index_result] = lst2[index_arr2]\n",
    "            index_result += 1\n",
    "            index_arr2 += 1\n",
    "    while (index_arr1 < len(lst1)):\n",
    "        result[index_result] = lst1[index_arr1]\n",
    "        index_result += 1\n",
    "        index_arr1 += 1\n",
    "    while (index_arr2 < len(lst2)):\n",
    "        result[index_result] = lst2[index_arr2]\n",
    "        index_result += 1\n",
    "        index_arr2 += 1\n",
    "    return result\n",
    "\n",
    "\n",
    "print(merge_lists([4, 5, 6], [-2, -1, 0, 7]))"
   ]
  },
  {
   "cell_type": "raw",
   "id": "928a3c19-e061-4f55-8ddb-a3a718b0ddca",
   "metadata": {},
   "source": [
    "def merge_lists(lst1, lst2):\n",
    "    ind1 = 0  # Creating 2 new variable to track the 'current index'\n",
    "    ind2 = 0\n",
    "    # While both indeces are less than the length of their lists\n",
    "    while ind1 < len(lst1) and ind2 < len(lst2):\n",
    "        # If the current element of list1 is greater\n",
    "        # than the current element of list2\n",
    "        if(lst1[ind1] > lst2[ind2]):\n",
    "            # insert list2's current index to list1\n",
    "            lst1.insert(ind1, lst2[ind2])\n",
    "            ind1 += 1  # increment indices\n",
    "            ind2 += 1\n",
    "        else:\n",
    "            ind1 += 1\n",
    "\n",
    "    if ind2 < len(lst2):  # Append whatever is left of list2 to list1\n",
    "        lst1.extend(lst2[ind2:])\n",
    "    return lst1\n",
    "\n",
    "\n",
    "print(merge_lists([4, 5, 6], [-2, -1, 0, 7]))"
   ]
  },
  {
   "cell_type": "code",
   "execution_count": null,
   "id": "5aebc9dc-53b7-4fc5-bf61-46e48bc1bfc6",
   "metadata": {},
   "outputs": [],
   "source": []
  }
 ],
 "metadata": {
  "kernelspec": {
   "display_name": "Python 3 (ipykernel)",
   "language": "python",
   "name": "python3"
  },
  "language_info": {
   "codemirror_mode": {
    "name": "ipython",
    "version": 3
   },
   "file_extension": ".py",
   "mimetype": "text/x-python",
   "name": "python",
   "nbconvert_exporter": "python",
   "pygments_lexer": "ipython3",
   "version": "3.11.7"
  }
 },
 "nbformat": 4,
 "nbformat_minor": 5
}
