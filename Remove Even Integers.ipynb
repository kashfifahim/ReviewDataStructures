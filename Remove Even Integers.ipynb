{
 "cells": [
  {
   "cell_type": "code",
   "execution_count": 1,
   "id": "f304b792-dfa3-4ec2-9db8-1eab1a27c0b2",
   "metadata": {},
   "outputs": [],
   "source": [
    "def remove_even(lst):\n",
    "    \n",
    "    # Replace this placeholder return statement with your code\n",
    "    result_arr = []\n",
    "    for element in lst:\n",
    "        if element % 2 == 1:\n",
    "            result_arr.append(element)\n",
    "    return result_arr"
   ]
  },
  {
   "cell_type": "code",
   "execution_count": 2,
   "id": "e8250e16-e6b3-4d08-89e1-748e03713a0c",
   "metadata": {},
   "outputs": [
    {
     "data": {
      "text/plain": [
       "[1, 3, 5]"
      ]
     },
     "execution_count": 2,
     "metadata": {},
     "output_type": "execute_result"
    }
   ],
   "source": [
    "remove_even([1, 2, 3, 4, 5])"
   ]
  },
  {
   "cell_type": "code",
   "execution_count": null,
   "id": "e2e1ab2b-7d03-4bfd-8ff8-8b6cf9540285",
   "metadata": {},
   "outputs": [],
   "source": []
  },
  {
   "cell_type": "code",
   "execution_count": null,
   "id": "83cc9352-7cfa-4cee-86fa-e25aa0afa3f2",
   "metadata": {},
   "outputs": [],
   "source": []
  }
 ],
 "metadata": {
  "kernelspec": {
   "display_name": "Python 3 (ipykernel)",
   "language": "python",
   "name": "python3"
  },
  "language_info": {
   "codemirror_mode": {
    "name": "ipython",
    "version": 3
   },
   "file_extension": ".py",
   "mimetype": "text/x-python",
   "name": "python",
   "nbconvert_exporter": "python",
   "pygments_lexer": "ipython3",
   "version": "3.11.7"
  }
 },
 "nbformat": 4,
 "nbformat_minor": 5
}
