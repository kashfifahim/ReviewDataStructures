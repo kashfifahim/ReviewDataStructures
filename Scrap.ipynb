{
 "cells": [
  {
   "cell_type": "code",
   "execution_count": 71,
   "id": "b430292e-d9a4-48b5-b915-4f3524d994ad",
   "metadata": {},
   "outputs": [],
   "source": [
    "things_on_my_table = []"
   ]
  },
  {
   "cell_type": "code",
   "execution_count": 72,
   "id": "1d048b70-f01e-4c3a-878e-561ecd856b62",
   "metadata": {},
   "outputs": [
    {
     "data": {
      "text/plain": [
       "[]"
      ]
     },
     "execution_count": 72,
     "metadata": {},
     "output_type": "execute_result"
    }
   ],
   "source": [
    "things_on_my_table"
   ]
  },
  {
   "cell_type": "code",
   "execution_count": 73,
   "id": "b9aca33a-ab39-413d-804f-97b0b71296dc",
   "metadata": {},
   "outputs": [],
   "source": [
    "things_on_my_table.append(\"water bottle\")"
   ]
  },
  {
   "cell_type": "code",
   "execution_count": 74,
   "id": "af147385-31b6-4abf-a9a3-6e89a4bc052a",
   "metadata": {},
   "outputs": [
    {
     "name": "stdout",
     "output_type": "stream",
     "text": [
      "['water bottle']\n"
     ]
    }
   ],
   "source": [
    "print(things_on_my_table)"
   ]
  },
  {
   "cell_type": "code",
   "execution_count": 75,
   "id": "37815a1e-e678-4d54-96d3-7177c24fee38",
   "metadata": {},
   "outputs": [],
   "source": [
    "first_element = things_on_my_table[0]"
   ]
  },
  {
   "cell_type": "code",
   "execution_count": 76,
   "id": "b74b5bd7-b807-424e-9cf0-b179242c6777",
   "metadata": {},
   "outputs": [
    {
     "name": "stdout",
     "output_type": "stream",
     "text": [
      "water bottle\n"
     ]
    }
   ],
   "source": [
    "print(first_element)"
   ]
  },
  {
   "cell_type": "code",
   "execution_count": 77,
   "id": "62b9ed32-224a-4cf5-9c16-36105c773105",
   "metadata": {},
   "outputs": [],
   "source": [
    "things_on_my_mind = []"
   ]
  },
  {
   "cell_type": "code",
   "execution_count": 78,
   "id": "4d74cab0-a778-4891-b66b-18075cf6ac34",
   "metadata": {},
   "outputs": [],
   "source": [
    "things_on_my_mind.append(\"stream python data structures\")"
   ]
  },
  {
   "cell_type": "code",
   "execution_count": 79,
   "id": "212c937f-6610-4f14-be17-8f4282e0a9f2",
   "metadata": {},
   "outputs": [],
   "source": [
    "things_on_my_mind.append(\"make a repo on github\")"
   ]
  },
  {
   "cell_type": "code",
   "execution_count": 80,
   "id": "efd52dbb-0982-4275-b1d9-441c3ae48479",
   "metadata": {},
   "outputs": [],
   "source": [
    "list_of_exercises = [\"walk for 10 miuntes\", \"jumping jacks\", \"push-ups\", \"crunches\", \"bench-press\"]"
   ]
  },
  {
   "cell_type": "code",
   "execution_count": 81,
   "id": "3995aeac-e08b-4be3-9a6b-79897c8f5172",
   "metadata": {},
   "outputs": [],
   "source": [
    "things_on_my_mind.append(list_of_exercises)"
   ]
  },
  {
   "cell_type": "code",
   "execution_count": 82,
   "id": "e3d1726f-9c00-4de5-b804-9c74a3cd46ff",
   "metadata": {},
   "outputs": [],
   "source": [
    "things_on_my_mind.append(200)"
   ]
  },
  {
   "cell_type": "code",
   "execution_count": 83,
   "id": "1c050772-7dca-4c8e-8d39-6ef0ff13d8c0",
   "metadata": {},
   "outputs": [],
   "source": [
    "things_on_my_mind.append(185)"
   ]
  },
  {
   "cell_type": "code",
   "execution_count": 84,
   "id": "0e979641-a2f9-40c4-a036-002b093c530e",
   "metadata": {},
   "outputs": [],
   "source": [
    "things_on_my_mind.append(200-185)"
   ]
  },
  {
   "cell_type": "code",
   "execution_count": 85,
   "id": "71df2fc1-ca25-4719-9654-0196c5664854",
   "metadata": {},
   "outputs": [
    {
     "name": "stdout",
     "output_type": "stream",
     "text": [
      "['stream python data structures', 'make a repo on github', ['walk for 10 miuntes', 'jumping jacks', 'push-ups', 'crunches', 'bench-press'], 200, 185, 15]\n"
     ]
    }
   ],
   "source": [
    "print(things_on_my_mind)"
   ]
  },
  {
   "cell_type": "code",
   "execution_count": 86,
   "id": "5925eee2-b7eb-4be6-bc1f-64956787432c",
   "metadata": {},
   "outputs": [
    {
     "name": "stdout",
     "output_type": "stream",
     "text": [
      "['stream python data structures', 'make a repo on github', ['walk for 10 miuntes', 'jumping jacks', 'push-ups', 'crunches', 'bench-press'], 200, 185, 15]\n"
     ]
    }
   ],
   "source": [
    "print(things_on_my_mind)"
   ]
  },
  {
   "cell_type": "code",
   "execution_count": 87,
   "id": "793d72db-52bf-446f-8795-b10902facb37",
   "metadata": {},
   "outputs": [],
   "source": [
    "things_on_my_mind.insert(2, \"clone repo to local machine\")"
   ]
  },
  {
   "cell_type": "code",
   "execution_count": 88,
   "id": "f0178e1f-c617-45fe-ad92-e831771d389f",
   "metadata": {},
   "outputs": [
    {
     "name": "stdout",
     "output_type": "stream",
     "text": [
      "['stream python data structures', 'make a repo on github', 'clone repo to local machine', ['walk for 10 miuntes', 'jumping jacks', 'push-ups', 'crunches', 'bench-press'], 200, 185, 15]\n"
     ]
    }
   ],
   "source": [
    "print(things_on_my_mind)"
   ]
  },
  {
   "cell_type": "code",
   "execution_count": 89,
   "id": "cc7cfeca-01c3-486c-bd69-815cf92019b9",
   "metadata": {},
   "outputs": [],
   "source": [
    "things_on_my_mind.insert(4, \"create project\")"
   ]
  },
  {
   "cell_type": "code",
   "execution_count": 90,
   "id": "31e339eb-90e9-4b7a-9e87-c00a7afe6eaf",
   "metadata": {},
   "outputs": [
    {
     "name": "stdout",
     "output_type": "stream",
     "text": [
      "['stream python data structures', 'make a repo on github', 'clone repo to local machine', ['walk for 10 miuntes', 'jumping jacks', 'push-ups', 'crunches', 'bench-press'], 'create project', 200, 185, 15]\n"
     ]
    }
   ],
   "source": [
    "print(things_on_my_mind)"
   ]
  },
  {
   "cell_type": "code",
   "execution_count": 91,
   "id": "8b0e08f4-e8a0-4f1c-b520-8f77ea757aeb",
   "metadata": {},
   "outputs": [],
   "source": [
    "try:\n",
    "    things_on_my_mind.remove(\"clone repo to local machine\")\n",
    "except:\n",
    "    print(\"Exception occurred\")"
   ]
  },
  {
   "cell_type": "code",
   "execution_count": 92,
   "id": "68c13329-aace-48f7-a8f4-f9162175067f",
   "metadata": {},
   "outputs": [
    {
     "name": "stdout",
     "output_type": "stream",
     "text": [
      "['stream python data structures', 'make a repo on github', ['walk for 10 miuntes', 'jumping jacks', 'push-ups', 'crunches', 'bench-press'], 'create project', 200, 185, 15]\n"
     ]
    }
   ],
   "source": [
    "print(things_on_my_mind)"
   ]
  },
  {
   "cell_type": "code",
   "execution_count": 93,
   "id": "6bc5e1e1-5aeb-48c7-ab9a-e76c9bc701a9",
   "metadata": {},
   "outputs": [
    {
     "data": {
      "text/plain": [
       "15"
      ]
     },
     "execution_count": 93,
     "metadata": {},
     "output_type": "execute_result"
    }
   ],
   "source": [
    "things_on_my_mind.pop()"
   ]
  },
  {
   "cell_type": "code",
   "execution_count": 94,
   "id": "ea3bdf5b-7ef9-4a54-98ce-856ec87e7f34",
   "metadata": {},
   "outputs": [
    {
     "data": {
      "text/plain": [
       "['stream python data structures',\n",
       " 'make a repo on github',\n",
       " ['walk for 10 miuntes',\n",
       "  'jumping jacks',\n",
       "  'push-ups',\n",
       "  'crunches',\n",
       "  'bench-press'],\n",
       " 'create project',\n",
       " 200,\n",
       " 185]"
      ]
     },
     "execution_count": 94,
     "metadata": {},
     "output_type": "execute_result"
    }
   ],
   "source": [
    "things_on_my_mind"
   ]
  },
  {
   "cell_type": "code",
   "execution_count": 95,
   "id": "32fb6f95-124f-4ca3-a343-f77e0a37a7be",
   "metadata": {},
   "outputs": [],
   "source": [
    "slice_of_my_mind = things_on_my_mind[0: 4]"
   ]
  },
  {
   "cell_type": "code",
   "execution_count": 96,
   "id": "440b3e91-5e80-47b0-85b4-53f2ca499725",
   "metadata": {},
   "outputs": [
    {
     "name": "stdout",
     "output_type": "stream",
     "text": [
      "['stream python data structures', 'make a repo on github', ['walk for 10 miuntes', 'jumping jacks', 'push-ups', 'crunches', 'bench-press'], 'create project']\n"
     ]
    }
   ],
   "source": [
    "print(slice_of_my_mind)"
   ]
  },
  {
   "cell_type": "code",
   "execution_count": 97,
   "id": "caf18735-c4ee-4c71-8851-5791a730d915",
   "metadata": {},
   "outputs": [
    {
     "data": {
      "text/plain": [
       "['stream python data structures',\n",
       " 'make a repo on github',\n",
       " ['walk for 10 miuntes',\n",
       "  'jumping jacks',\n",
       "  'push-ups',\n",
       "  'crunches',\n",
       "  'bench-press'],\n",
       " 'create project']"
      ]
     },
     "execution_count": 97,
     "metadata": {},
     "output_type": "execute_result"
    }
   ],
   "source": [
    "slice_of_my_mind[:4]"
   ]
  },
  {
   "cell_type": "code",
   "execution_count": 98,
   "id": "a57ce5fd-a89d-4a66-92b8-6f0c3324f835",
   "metadata": {},
   "outputs": [
    {
     "data": {
      "text/plain": [
       "['stream python data structures', 200]"
      ]
     },
     "execution_count": 98,
     "metadata": {},
     "output_type": "execute_result"
    }
   ],
   "source": [
    "things_on_my_mind[0: :4]"
   ]
  },
  {
   "cell_type": "code",
   "execution_count": 99,
   "id": "85cf34a8-6667-49d4-be3c-801b2b33dfd5",
   "metadata": {},
   "outputs": [],
   "source": [
    "things_on_my_mind[1:3] = ['watermelon', 'mango', 'strawberries', 'apples']"
   ]
  },
  {
   "cell_type": "code",
   "execution_count": 100,
   "id": "1d1a2d73-13d3-40dd-8423-1098d9f04599",
   "metadata": {},
   "outputs": [
    {
     "data": {
      "text/plain": [
       "['stream python data structures',\n",
       " 'watermelon',\n",
       " 'mango',\n",
       " 'strawberries',\n",
       " 'apples',\n",
       " 'create project',\n",
       " 200,\n",
       " 185]"
      ]
     },
     "execution_count": 100,
     "metadata": {},
     "output_type": "execute_result"
    }
   ],
   "source": [
    "things_on_my_mind"
   ]
  },
  {
   "cell_type": "code",
   "execution_count": 101,
   "id": "0d28f0c0-4c9a-4320-b815-3f2b38ee82d1",
   "metadata": {},
   "outputs": [],
   "source": [
    "del things_on_my_mind[1:5]"
   ]
  },
  {
   "cell_type": "code",
   "execution_count": 102,
   "id": "00c31064-53f9-4694-a5f4-aaac4cdd7b8d",
   "metadata": {},
   "outputs": [
    {
     "data": {
      "text/plain": [
       "['stream python data structures', 'create project', 200, 185]"
      ]
     },
     "execution_count": 102,
     "metadata": {},
     "output_type": "execute_result"
    }
   ],
   "source": [
    "things_on_my_mind"
   ]
  },
  {
   "cell_type": "code",
   "execution_count": 103,
   "id": "9e387685-0ebc-42a3-9cad-fa88bbad8507",
   "metadata": {},
   "outputs": [],
   "source": [
    "import array"
   ]
  },
  {
   "cell_type": "code",
   "execution_count": 104,
   "id": "550d0a4e-c0e9-4ba6-9867-f7f467060150",
   "metadata": {},
   "outputs": [],
   "source": [
    "num_array = array.array('i', [1, 2, 3])"
   ]
  },
  {
   "cell_type": "code",
   "execution_count": 105,
   "id": "c69b3856-5ef1-414f-aad0-848fbed3c6bc",
   "metadata": {},
   "outputs": [
    {
     "name": "stdout",
     "output_type": "stream",
     "text": [
      "array('i', [1, 2, 3])\n"
     ]
    }
   ],
   "source": [
    "print(num_array)"
   ]
  },
  {
   "cell_type": "code",
   "execution_count": 106,
   "id": "f2adae7f-c8b3-4920-8154-7818b3977069",
   "metadata": {},
   "outputs": [
    {
     "name": "stdout",
     "output_type": "stream",
     "text": [
      "2\n",
      "3\n",
      "4\n"
     ]
    }
   ],
   "source": [
    "for x in num_array:\n",
    "    print(x + 1)"
   ]
  },
  {
   "cell_type": "code",
   "execution_count": 107,
   "id": "73c315d7-8d72-47b5-afbc-a4d1649aad3f",
   "metadata": {},
   "outputs": [],
   "source": [
    "things_on_my_mind.extend([1, 3, 5])"
   ]
  },
  {
   "cell_type": "code",
   "execution_count": 108,
   "id": "8ea341cf-1b4f-4aec-923b-aab4262e3c4d",
   "metadata": {},
   "outputs": [
    {
     "data": {
      "text/plain": [
       "['stream python data structures', 'create project', 200, 185, 1, 3, 5]"
      ]
     },
     "execution_count": 108,
     "metadata": {},
     "output_type": "execute_result"
    }
   ],
   "source": [
    "things_on_my_mind"
   ]
  },
  {
   "cell_type": "code",
   "execution_count": 109,
   "id": "736588e7-0079-4bd0-9171-fa930667e1a4",
   "metadata": {},
   "outputs": [],
   "source": [
    "odd = array.array('i', [1, 3, 5])"
   ]
  },
  {
   "cell_type": "code",
   "execution_count": 110,
   "id": "de3055ef-b36d-470b-b606-ad610c46e8be",
   "metadata": {},
   "outputs": [],
   "source": [
    "even = array.array('i', [2, 4, 6])"
   ]
  },
  {
   "cell_type": "code",
   "execution_count": 111,
   "id": "cdc086d5-e01d-4cfc-8001-2c29fc1fb935",
   "metadata": {},
   "outputs": [],
   "source": [
    "integers = odd + even"
   ]
  },
  {
   "cell_type": "code",
   "execution_count": 112,
   "id": "fbb108cf-6cce-451b-9d8e-1247def6ad07",
   "metadata": {},
   "outputs": [
    {
     "data": {
      "text/plain": [
       "array('i', [1, 3, 5, 2, 4, 6])"
      ]
     },
     "execution_count": 112,
     "metadata": {},
     "output_type": "execute_result"
    }
   ],
   "source": [
    "integers"
   ]
  },
  {
   "cell_type": "code",
   "execution_count": 116,
   "id": "99a6efa8-2735-49d6-8241-7f850c3e443b",
   "metadata": {},
   "outputs": [
    {
     "ename": "AttributeError",
     "evalue": "'array.array' object has no attribute 'sort'",
     "output_type": "error",
     "traceback": [
      "\u001b[0;31m---------------------------------------------------------------------------\u001b[0m",
      "\u001b[0;31mAttributeError\u001b[0m                            Traceback (most recent call last)",
      "Cell \u001b[0;32mIn[116], line 1\u001b[0m\n\u001b[0;32m----> 1\u001b[0m \u001b[43mintegers\u001b[49m\u001b[38;5;241;43m.\u001b[39;49m\u001b[43msort\u001b[49m()\n",
      "\u001b[0;31mAttributeError\u001b[0m: 'array.array' object has no attribute 'sort'"
     ]
    }
   ],
   "source": [
    "integers.sort()"
   ]
  },
  {
   "cell_type": "code",
   "execution_count": null,
   "id": "2ca215ab-0d97-42a5-aea0-a1cd8d517731",
   "metadata": {},
   "outputs": [],
   "source": []
  }
 ],
 "metadata": {
  "kernelspec": {
   "display_name": "Python 3 (ipykernel)",
   "language": "python",
   "name": "python3"
  },
  "language_info": {
   "codemirror_mode": {
    "name": "ipython",
    "version": 3
   },
   "file_extension": ".py",
   "mimetype": "text/x-python",
   "name": "python",
   "nbconvert_exporter": "python",
   "pygments_lexer": "ipython3",
   "version": "3.11.7"
  }
 },
 "nbformat": 4,
 "nbformat_minor": 5
}
